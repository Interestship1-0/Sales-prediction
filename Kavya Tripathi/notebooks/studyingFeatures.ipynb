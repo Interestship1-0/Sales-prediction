{
 "cells": [
  {
   "cell_type": "code",
   "execution_count": 1,
   "metadata": {},
   "outputs": [],
   "source": [
    "import pandas as pd\n",
    "import numpy as np\n",
    "import matplotlib.pyplot as plt\n",
    "import seaborn as sns"
   ]
  },
  {
   "cell_type": "code",
   "execution_count": 2,
   "metadata": {},
   "outputs": [
    {
     "data": {
      "text/plain": [
       "'C:\\\\Users\\\\ASUS\\\\Sales_Prediction\\\\notebooks'"
      ]
     },
     "execution_count": 2,
     "metadata": {},
     "output_type": "execute_result"
    }
   ],
   "source": [
    "pwd"
   ]
  },
  {
   "cell_type": "code",
   "execution_count": 3,
   "metadata": {},
   "outputs": [
    {
     "name": "stdout",
     "output_type": "stream",
     "text": [
      "<class 'pandas.core.frame.DataFrame'>\n",
      "RangeIndex: 2412619 entries, 0 to 2412618\n",
      "Data columns (total 11 columns):\n",
      " #   Column              Dtype  \n",
      "---  ------              -----  \n",
      " 0   Unnamed: 0          int64  \n",
      " 1   date                object \n",
      " 2   date_block_num      int64  \n",
      " 3   shop_id             int64  \n",
      " 4   item_id             int64  \n",
      " 5   item_price          float64\n",
      " 6   item_cnt_day        float64\n",
      " 7   shop_name           object \n",
      " 8   item_category_name  object \n",
      " 9   item_category_id    int64  \n",
      " 10  item_name           object \n",
      "dtypes: float64(2), int64(5), object(4)\n",
      "memory usage: 202.5+ MB\n"
     ]
    },
    {
     "data": {
      "text/plain": [
       "False"
      ]
     },
     "execution_count": 3,
     "metadata": {},
     "output_type": "execute_result"
    }
   ],
   "source": [
    "train_df = pd.read_csv(r\"C:\\Users\\ASUS\\.cookiecutters\\cookiecutter-data-science\\Sales_Prediction\\data\\interim\\train_final.csv\")\n",
    "train_df.info()\n",
    "train_df.isnull().values.any()"
   ]
  },
  {
   "cell_type": "code",
   "execution_count": 4,
   "metadata": {},
   "outputs": [
    {
     "data": {
      "text/html": [
       "<div>\n",
       "<style scoped>\n",
       "    .dataframe tbody tr th:only-of-type {\n",
       "        vertical-align: middle;\n",
       "    }\n",
       "\n",
       "    .dataframe tbody tr th {\n",
       "        vertical-align: top;\n",
       "    }\n",
       "\n",
       "    .dataframe thead th {\n",
       "        text-align: right;\n",
       "    }\n",
       "</style>\n",
       "<table border=\"1\" class=\"dataframe\">\n",
       "  <thead>\n",
       "    <tr style=\"text-align: right;\">\n",
       "      <th></th>\n",
       "      <th>Unnamed: 0</th>\n",
       "      <th>date</th>\n",
       "      <th>date_block_num</th>\n",
       "      <th>shop_id</th>\n",
       "      <th>item_id</th>\n",
       "      <th>item_price</th>\n",
       "      <th>item_cnt_day</th>\n",
       "      <th>shop_name</th>\n",
       "      <th>item_category_name</th>\n",
       "      <th>item_category_id</th>\n",
       "      <th>item_name</th>\n",
       "    </tr>\n",
       "  </thead>\n",
       "  <tbody>\n",
       "    <tr>\n",
       "      <th>0</th>\n",
       "      <td>0</td>\n",
       "      <td>02.01.2013</td>\n",
       "      <td>0</td>\n",
       "      <td>59</td>\n",
       "      <td>22154</td>\n",
       "      <td>999.0</td>\n",
       "      <td>1.0</td>\n",
       "      <td>Ярославль ТЦ \"Альтаир\"</td>\n",
       "      <td>Кино - Blu-Ray</td>\n",
       "      <td>37</td>\n",
       "      <td>ЯВЛЕНИЕ 2012 (BD)</td>\n",
       "    </tr>\n",
       "    <tr>\n",
       "      <th>1</th>\n",
       "      <td>1</td>\n",
       "      <td>02.01.2013</td>\n",
       "      <td>0</td>\n",
       "      <td>25</td>\n",
       "      <td>22154</td>\n",
       "      <td>999.0</td>\n",
       "      <td>1.0</td>\n",
       "      <td>Москва ТРК \"Атриум\"</td>\n",
       "      <td>Кино - Blu-Ray</td>\n",
       "      <td>37</td>\n",
       "      <td>ЯВЛЕНИЕ 2012 (BD)</td>\n",
       "    </tr>\n",
       "    <tr>\n",
       "      <th>2</th>\n",
       "      <td>2</td>\n",
       "      <td>03.01.2013</td>\n",
       "      <td>0</td>\n",
       "      <td>25</td>\n",
       "      <td>22154</td>\n",
       "      <td>999.0</td>\n",
       "      <td>1.0</td>\n",
       "      <td>Москва ТРК \"Атриум\"</td>\n",
       "      <td>Кино - Blu-Ray</td>\n",
       "      <td>37</td>\n",
       "      <td>ЯВЛЕНИЕ 2012 (BD)</td>\n",
       "    </tr>\n",
       "    <tr>\n",
       "      <th>3</th>\n",
       "      <td>3</td>\n",
       "      <td>20.01.2013</td>\n",
       "      <td>0</td>\n",
       "      <td>25</td>\n",
       "      <td>22154</td>\n",
       "      <td>999.0</td>\n",
       "      <td>1.0</td>\n",
       "      <td>Москва ТРК \"Атриум\"</td>\n",
       "      <td>Кино - Blu-Ray</td>\n",
       "      <td>37</td>\n",
       "      <td>ЯВЛЕНИЕ 2012 (BD)</td>\n",
       "    </tr>\n",
       "    <tr>\n",
       "      <th>4</th>\n",
       "      <td>4</td>\n",
       "      <td>23.01.2013</td>\n",
       "      <td>0</td>\n",
       "      <td>25</td>\n",
       "      <td>22154</td>\n",
       "      <td>999.0</td>\n",
       "      <td>1.0</td>\n",
       "      <td>Москва ТРК \"Атриум\"</td>\n",
       "      <td>Кино - Blu-Ray</td>\n",
       "      <td>37</td>\n",
       "      <td>ЯВЛЕНИЕ 2012 (BD)</td>\n",
       "    </tr>\n",
       "  </tbody>\n",
       "</table>\n",
       "</div>"
      ],
      "text/plain": [
       "   Unnamed: 0        date  date_block_num  shop_id  item_id  item_price  \\\n",
       "0           0  02.01.2013               0       59    22154       999.0   \n",
       "1           1  02.01.2013               0       25    22154       999.0   \n",
       "2           2  03.01.2013               0       25    22154       999.0   \n",
       "3           3  20.01.2013               0       25    22154       999.0   \n",
       "4           4  23.01.2013               0       25    22154       999.0   \n",
       "\n",
       "   item_cnt_day               shop_name item_category_name  item_category_id  \\\n",
       "0           1.0  Ярославль ТЦ \"Альтаир\"     Кино - Blu-Ray                37   \n",
       "1           1.0     Москва ТРК \"Атриум\"     Кино - Blu-Ray                37   \n",
       "2           1.0     Москва ТРК \"Атриум\"     Кино - Blu-Ray                37   \n",
       "3           1.0     Москва ТРК \"Атриум\"     Кино - Blu-Ray                37   \n",
       "4           1.0     Москва ТРК \"Атриум\"     Кино - Blu-Ray                37   \n",
       "\n",
       "           item_name  \n",
       "0  ЯВЛЕНИЕ 2012 (BD)  \n",
       "1  ЯВЛЕНИЕ 2012 (BD)  \n",
       "2  ЯВЛЕНИЕ 2012 (BD)  \n",
       "3  ЯВЛЕНИЕ 2012 (BD)  \n",
       "4  ЯВЛЕНИЕ 2012 (BD)  "
      ]
     },
     "execution_count": 4,
     "metadata": {},
     "output_type": "execute_result"
    }
   ],
   "source": [
    "train_df.head()"
   ]
  },
  {
   "cell_type": "code",
   "execution_count": 5,
   "metadata": {},
   "outputs": [
    {
     "data": {
      "text/plain": [
       "0         2013-02-01\n",
       "1         2013-02-01\n",
       "2         2013-03-01\n",
       "3         2013-01-20\n",
       "4         2013-01-23\n",
       "             ...    \n",
       "2412614   2015-02-10\n",
       "2412615   2015-04-10\n",
       "2412616   2015-03-10\n",
       "2412617   2015-01-10\n",
       "2412618   2015-03-10\n",
       "Name: date, Length: 2412619, dtype: datetime64[ns]"
      ]
     },
     "execution_count": 5,
     "metadata": {},
     "output_type": "execute_result"
    }
   ],
   "source": [
    "pd.to_datetime(train_df['date'])"
   ]
  },
  {
   "cell_type": "code",
   "execution_count": 6,
   "metadata": {},
   "outputs": [
    {
     "data": {
      "text/html": [
       "<div>\n",
       "<style scoped>\n",
       "    .dataframe tbody tr th:only-of-type {\n",
       "        vertical-align: middle;\n",
       "    }\n",
       "\n",
       "    .dataframe tbody tr th {\n",
       "        vertical-align: top;\n",
       "    }\n",
       "\n",
       "    .dataframe thead th {\n",
       "        text-align: right;\n",
       "    }\n",
       "</style>\n",
       "<table border=\"1\" class=\"dataframe\">\n",
       "  <thead>\n",
       "    <tr style=\"text-align: right;\">\n",
       "      <th></th>\n",
       "      <th>Unnamed: 0</th>\n",
       "      <th>date</th>\n",
       "      <th>date_block_num</th>\n",
       "      <th>shop_id</th>\n",
       "      <th>item_id</th>\n",
       "      <th>item_price</th>\n",
       "      <th>item_cnt_day</th>\n",
       "      <th>shop_name</th>\n",
       "      <th>item_category_name</th>\n",
       "      <th>item_category_id</th>\n",
       "      <th>item_name</th>\n",
       "    </tr>\n",
       "  </thead>\n",
       "  <tbody>\n",
       "    <tr>\n",
       "      <th>0</th>\n",
       "      <td>0</td>\n",
       "      <td>02.01.2013</td>\n",
       "      <td>0</td>\n",
       "      <td>59</td>\n",
       "      <td>22154</td>\n",
       "      <td>999.0</td>\n",
       "      <td>1.0</td>\n",
       "      <td>59</td>\n",
       "      <td>36</td>\n",
       "      <td>37</td>\n",
       "      <td>20713</td>\n",
       "    </tr>\n",
       "    <tr>\n",
       "      <th>1</th>\n",
       "      <td>1</td>\n",
       "      <td>02.01.2013</td>\n",
       "      <td>0</td>\n",
       "      <td>25</td>\n",
       "      <td>22154</td>\n",
       "      <td>999.0</td>\n",
       "      <td>1.0</td>\n",
       "      <td>25</td>\n",
       "      <td>36</td>\n",
       "      <td>37</td>\n",
       "      <td>20713</td>\n",
       "    </tr>\n",
       "    <tr>\n",
       "      <th>2</th>\n",
       "      <td>2</td>\n",
       "      <td>03.01.2013</td>\n",
       "      <td>0</td>\n",
       "      <td>25</td>\n",
       "      <td>22154</td>\n",
       "      <td>999.0</td>\n",
       "      <td>1.0</td>\n",
       "      <td>25</td>\n",
       "      <td>36</td>\n",
       "      <td>37</td>\n",
       "      <td>20713</td>\n",
       "    </tr>\n",
       "    <tr>\n",
       "      <th>3</th>\n",
       "      <td>3</td>\n",
       "      <td>20.01.2013</td>\n",
       "      <td>0</td>\n",
       "      <td>25</td>\n",
       "      <td>22154</td>\n",
       "      <td>999.0</td>\n",
       "      <td>1.0</td>\n",
       "      <td>25</td>\n",
       "      <td>36</td>\n",
       "      <td>37</td>\n",
       "      <td>20713</td>\n",
       "    </tr>\n",
       "    <tr>\n",
       "      <th>4</th>\n",
       "      <td>4</td>\n",
       "      <td>23.01.2013</td>\n",
       "      <td>0</td>\n",
       "      <td>25</td>\n",
       "      <td>22154</td>\n",
       "      <td>999.0</td>\n",
       "      <td>1.0</td>\n",
       "      <td>25</td>\n",
       "      <td>36</td>\n",
       "      <td>37</td>\n",
       "      <td>20713</td>\n",
       "    </tr>\n",
       "  </tbody>\n",
       "</table>\n",
       "</div>"
      ],
      "text/plain": [
       "   Unnamed: 0        date  date_block_num  shop_id  item_id  item_price  \\\n",
       "0           0  02.01.2013               0       59    22154       999.0   \n",
       "1           1  02.01.2013               0       25    22154       999.0   \n",
       "2           2  03.01.2013               0       25    22154       999.0   \n",
       "3           3  20.01.2013               0       25    22154       999.0   \n",
       "4           4  23.01.2013               0       25    22154       999.0   \n",
       "\n",
       "   item_cnt_day  shop_name  item_category_name  item_category_id  item_name  \n",
       "0           1.0         59                  36                37      20713  \n",
       "1           1.0         25                  36                37      20713  \n",
       "2           1.0         25                  36                37      20713  \n",
       "3           1.0         25                  36                37      20713  \n",
       "4           1.0         25                  36                37      20713  "
      ]
     },
     "execution_count": 6,
     "metadata": {},
     "output_type": "execute_result"
    }
   ],
   "source": [
    "from sklearn.preprocessing import LabelEncoder\n",
    "train_df.shop_name = LabelEncoder().fit_transform(train_df.shop_name)\n",
    "train_df.item_category_name = LabelEncoder().fit_transform(train_df.item_category_name)\n",
    "train_df.item_name = LabelEncoder().fit_transform(train_df.item_name)\n",
    "train_df.head()"
   ]
  },
  {
   "cell_type": "code",
   "execution_count": 7,
   "metadata": {},
   "outputs": [
    {
     "data": {
      "text/plain": [
       "60"
      ]
     },
     "execution_count": 7,
     "metadata": {},
     "output_type": "execute_result"
    }
   ],
   "source": [
    "train_df[\"shop_name\"].nunique()"
   ]
  },
  {
   "cell_type": "code",
   "execution_count": 8,
   "metadata": {},
   "outputs": [
    {
     "data": {
      "text/html": [
       "<div>\n",
       "<style scoped>\n",
       "    .dataframe tbody tr th:only-of-type {\n",
       "        vertical-align: middle;\n",
       "    }\n",
       "\n",
       "    .dataframe tbody tr th {\n",
       "        vertical-align: top;\n",
       "    }\n",
       "\n",
       "    .dataframe thead th {\n",
       "        text-align: right;\n",
       "    }\n",
       "</style>\n",
       "<table border=\"1\" class=\"dataframe\">\n",
       "  <thead>\n",
       "    <tr style=\"text-align: right;\">\n",
       "      <th></th>\n",
       "      <th>date_block_num</th>\n",
       "      <th>shop_name</th>\n",
       "      <th>item_cnt_day</th>\n",
       "    </tr>\n",
       "  </thead>\n",
       "  <tbody>\n",
       "    <tr>\n",
       "      <th>0</th>\n",
       "      <td>0</td>\n",
       "      <td>0</td>\n",
       "      <td>4128</td>\n",
       "    </tr>\n",
       "    <tr>\n",
       "      <th>1</th>\n",
       "      <td>0</td>\n",
       "      <td>1</td>\n",
       "      <td>2460</td>\n",
       "    </tr>\n",
       "    <tr>\n",
       "      <th>2</th>\n",
       "      <td>0</td>\n",
       "      <td>2</td>\n",
       "      <td>925</td>\n",
       "    </tr>\n",
       "    <tr>\n",
       "      <th>3</th>\n",
       "      <td>0</td>\n",
       "      <td>3</td>\n",
       "      <td>698</td>\n",
       "    </tr>\n",
       "    <tr>\n",
       "      <th>4</th>\n",
       "      <td>0</td>\n",
       "      <td>4</td>\n",
       "      <td>1651</td>\n",
       "    </tr>\n",
       "    <tr>\n",
       "      <th>...</th>\n",
       "      <td>...</td>\n",
       "      <td>...</td>\n",
       "      <td>...</td>\n",
       "    </tr>\n",
       "    <tr>\n",
       "      <th>1577</th>\n",
       "      <td>33</td>\n",
       "      <td>55</td>\n",
       "      <td>1006</td>\n",
       "    </tr>\n",
       "    <tr>\n",
       "      <th>1578</th>\n",
       "      <td>33</td>\n",
       "      <td>56</td>\n",
       "      <td>960</td>\n",
       "    </tr>\n",
       "    <tr>\n",
       "      <th>1579</th>\n",
       "      <td>33</td>\n",
       "      <td>57</td>\n",
       "      <td>1729</td>\n",
       "    </tr>\n",
       "    <tr>\n",
       "      <th>1580</th>\n",
       "      <td>33</td>\n",
       "      <td>58</td>\n",
       "      <td>1092</td>\n",
       "    </tr>\n",
       "    <tr>\n",
       "      <th>1581</th>\n",
       "      <td>33</td>\n",
       "      <td>59</td>\n",
       "      <td>598</td>\n",
       "    </tr>\n",
       "  </tbody>\n",
       "</table>\n",
       "<p>1582 rows × 3 columns</p>\n",
       "</div>"
      ],
      "text/plain": [
       "      date_block_num  shop_name  item_cnt_day\n",
       "0                  0          0          4128\n",
       "1                  0          1          2460\n",
       "2                  0          2           925\n",
       "3                  0          3           698\n",
       "4                  0          4          1651\n",
       "...              ...        ...           ...\n",
       "1577              33         55          1006\n",
       "1578              33         56           960\n",
       "1579              33         57          1729\n",
       "1580              33         58          1092\n",
       "1581              33         59           598\n",
       "\n",
       "[1582 rows x 3 columns]"
      ]
     },
     "execution_count": 8,
     "metadata": {},
     "output_type": "execute_result"
    }
   ],
   "source": [
    "## Grouping data on the basis of shop name to see per month sale of that shop\n",
    "shop_month_sales = train_df.groupby(['date_block_num','shop_name'], as_index=False)['item_cnt_day'].count()\n",
    "shop_month_sales.to_csv(r'C:\\Users\\ASUS\\.cookiecutters\\cookiecutter-data-science\\Sales_Prediction\\data\\interim\\shop_month_sales.csv')\n",
    "shop_month_sales"
   ]
  },
  {
   "cell_type": "code",
   "execution_count": 9,
   "metadata": {},
   "outputs": [
    {
     "name": "stderr",
     "output_type": "stream",
     "text": [
      "F:\\Anaconda\\lib\\site-packages\\ipykernel_launcher.py:6: MatplotlibDeprecationWarning: \n",
      "The 'normed' kwarg was deprecated in Matplotlib 2.1 and will be removed in 3.1. Use 'density' instead.\n",
      "  \n"
     ]
    },
    {
     "data": {
      "text/plain": [
       "Text(0, 0.5, 'item_cnt_day')"
      ]
     },
     "execution_count": 9,
     "metadata": {},
     "output_type": "execute_result"
    },
    {
     "data": {
      "image/png": "[encoded data removed]",
      "text/plain": [
       "<Figure size 432x288 with 1 Axes>"
      ]
     },
     "metadata": {
      "needs_background": "light"
     },
     "output_type": "display_data"
    }
   ],
   "source": [
    "x1 = list(shop_month_sales [shop_month_sales ['item_cnt_day'] < 1000]['shop_name'])\n",
    "x2 = list(shop_month_sales [shop_month_sales ['item_cnt_day'] > 2000]['shop_name']) and list(shop_month_sales [shop_month_sales ['item_cnt_day'] < 5000]['shop_name'])\n",
    "x3 = list(shop_month_sales [shop_month_sales ['item_cnt_day'] > 5000]['shop_name'])\n",
    "colors = ['#E69F00', '#56B4E9','#F0E442']\n",
    "names = ['<1000', '>2000 and <5000','>5000']\n",
    "plt.hist([x1,x2,x3], bins = int(10), normed=True,color = colors, label=names)\n",
    "\n",
    "# Plot formatting\n",
    "plt.legend()\n",
    "plt.xlabel('shops')\n",
    "plt.ylabel('item_cnt_day')"
   ]
  },
  {
   "cell_type": "code",
   "execution_count": 10,
   "metadata": {},
   "outputs": [],
   "source": [
    "arr =[0,1,2,3,4,5,6,7,8,9,10,11,12]\n",
    "g1 = shop_month_sales.query(\"item_cnt_day <= 1000 and date_block_num == 0\")['item_cnt_day'].mean()\n",
    "g2 = shop_month_sales.query(\"item_cnt_day <= 1000 and date_block_num == 1\")['item_cnt_day'].mean()\n",
    "g3 = shop_month_sales.query(\"item_cnt_day <= 1000 and date_block_num == 2\")['item_cnt_day'].mean()"
   ]
  },
  {
   "cell_type": "code",
   "execution_count": 11,
   "metadata": {},
   "outputs": [
    {
     "name": "stdout",
     "output_type": "stream",
     "text": [
      "734.75\n",
      "696.6666666666666\n",
      "725.6\n"
     ]
    }
   ],
   "source": [
    "print(g1)\n",
    "print(g2)\n",
    "print(g3)"
   ]
  },
  {
   "cell_type": "code",
   "execution_count": 12,
   "metadata": {},
   "outputs": [
    {
     "name": "stdout",
     "output_type": "stream",
     "text": [
      "      date_block_num  shop_name  item_cnt_day\n",
      "2                  0          2           925\n",
      "3                  0          3           698\n",
      "7                  0          8          1270\n",
      "8                  0         10           803\n",
      "9                  0         12           513\n",
      "...              ...        ...           ...\n",
      "1576              33         53           766\n",
      "1577              33         55          1006\n",
      "1578              33         56           960\n",
      "1580              33         58          1092\n",
      "1581              33         59           598\n",
      "\n",
      "[1050 rows x 3 columns]\n",
      "      date_block_num  shop_name  item_cnt_day\n",
      "1                  0          1          2460\n",
      "4                  0          4          1651\n",
      "5                  0          6          2770\n",
      "6                  0          7          1999\n",
      "12                 0         15          2067\n",
      "...              ...        ...           ...\n",
      "1522              32         42          2104\n",
      "1535              32         57          1637\n",
      "1558              33         28          2003\n",
      "1567              33         42          2398\n",
      "1579              33         57          1729\n",
      "\n",
      "[387 rows x 3 columns]\n",
      "      date_block_num  shop_name  item_cnt_day\n",
      "0                  0          0          4128\n",
      "22                 0         27          3875\n",
      "23                 0         28          4685\n",
      "45                 1          0          4290\n",
      "69                 1         28          3561\n",
      "...              ...        ...           ...\n",
      "1431              30         31          4153\n",
      "1473              31         31          3854\n",
      "1515              32         31          3619\n",
      "1556              33         25          3578\n",
      "1559              33         31          3924\n",
      "\n",
      "[86 rows x 3 columns]\n",
      "      date_block_num  shop_name  item_cnt_day\n",
      "20                 0         25          5890\n",
      "26                 0         31          7120\n",
      "42                 0         54          6165\n",
      "66                 1         25          5367\n",
      "72                 1         31          7208\n",
      "88                 1         54          5230\n",
      "110                2         25          6275\n",
      "116                2         31          7757\n",
      "132                2         54          5898\n",
      "155                3         25          5673\n",
      "161                3         31          6558\n",
      "199                4         25          5068\n",
      "205                4         31          6412\n",
      "245                5         25          5537\n",
      "251                5         31          6521\n",
      "267                5         54          5243\n",
      "291                6         25          5223\n",
      "297                6         31          6642\n",
      "313                6         54          5021\n",
      "337                7         25          5324\n",
      "343                7         31          6605\n",
      "358                7         54          5499\n",
      "388                8         31          5966\n",
      "434                9         31          6244\n",
      "479               10         31          6524\n",
      "518               11         25          6766\n",
      "524               11         31          8864\n",
      "540               11         54          5766\n",
      "543               11         57          5125\n",
      "570               12         31          6484\n",
      "586               12         54          5181\n",
      "616               13         31          5915\n",
      "662               14         31          5848\n",
      "710               15         31          5621\n",
      "759               16         31          5003\n",
      "808               17         31          5077\n",
      "857               18         31          5113\n",
      "907               19         31          5539\n",
      "1009              21         31          5184\n",
      "1059              22         31          5410\n",
      "1103              23         25          6193\n",
      "1109              23         31          7752\n",
      "1159              24         31          5296\n",
      "1208              25         31          5097\n",
      "1254              26         31          5013\n"
     ]
    }
   ],
   "source": [
    "g1 = shop_month_sales[shop_month_sales['item_cnt_day'] < 1500]\n",
    "g2 = shop_month_sales[(shop_month_sales['item_cnt_day'] > 1500) & (shop_month_sales['item_cnt_day'] < 3000) ]\n",
    "g3 = shop_month_sales[(shop_month_sales['item_cnt_day'] > 3300) & (shop_month_sales['item_cnt_day'] < 5000)]\n",
    "g4 = shop_month_sales[shop_month_sales['item_cnt_day'] > 5000]\n",
    "print(g1)\n",
    "print(g2)\n",
    "print(g3)\n",
    "print(g4)"
   ]
  },
  {
   "cell_type": "code",
   "execution_count": 13,
   "metadata": {},
   "outputs": [],
   "source": [
    "g11 = g1.groupby(['date_block_num','shop_name']).aggregate(np.mean)"
   ]
  },
  {
   "cell_type": "code",
   "execution_count": 14,
   "metadata": {},
   "outputs": [
    {
     "data": {
      "text/html": [
       "<div>\n",
       "<style scoped>\n",
       "    .dataframe tbody tr th:only-of-type {\n",
       "        vertical-align: middle;\n",
       "    }\n",
       "\n",
       "    .dataframe tbody tr th {\n",
       "        vertical-align: top;\n",
       "    }\n",
       "\n",
       "    .dataframe thead th {\n",
       "        text-align: right;\n",
       "    }\n",
       "</style>\n",
       "<table border=\"1\" class=\"dataframe\">\n",
       "  <thead>\n",
       "    <tr style=\"text-align: right;\">\n",
       "      <th></th>\n",
       "      <th>date_block_num</th>\n",
       "      <th>shop_name</th>\n",
       "      <th>item_cnt_day</th>\n",
       "    </tr>\n",
       "  </thead>\n",
       "  <tbody>\n",
       "    <tr>\n",
       "      <th>2</th>\n",
       "      <td>0</td>\n",
       "      <td>2</td>\n",
       "      <td>925</td>\n",
       "    </tr>\n",
       "    <tr>\n",
       "      <th>3</th>\n",
       "      <td>0</td>\n",
       "      <td>3</td>\n",
       "      <td>698</td>\n",
       "    </tr>\n",
       "    <tr>\n",
       "      <th>7</th>\n",
       "      <td>0</td>\n",
       "      <td>8</td>\n",
       "      <td>1270</td>\n",
       "    </tr>\n",
       "    <tr>\n",
       "      <th>8</th>\n",
       "      <td>0</td>\n",
       "      <td>10</td>\n",
       "      <td>803</td>\n",
       "    </tr>\n",
       "    <tr>\n",
       "      <th>9</th>\n",
       "      <td>0</td>\n",
       "      <td>12</td>\n",
       "      <td>513</td>\n",
       "    </tr>\n",
       "    <tr>\n",
       "      <th>...</th>\n",
       "      <td>...</td>\n",
       "      <td>...</td>\n",
       "      <td>...</td>\n",
       "    </tr>\n",
       "    <tr>\n",
       "      <th>1576</th>\n",
       "      <td>33</td>\n",
       "      <td>53</td>\n",
       "      <td>766</td>\n",
       "    </tr>\n",
       "    <tr>\n",
       "      <th>1577</th>\n",
       "      <td>33</td>\n",
       "      <td>55</td>\n",
       "      <td>1006</td>\n",
       "    </tr>\n",
       "    <tr>\n",
       "      <th>1578</th>\n",
       "      <td>33</td>\n",
       "      <td>56</td>\n",
       "      <td>960</td>\n",
       "    </tr>\n",
       "    <tr>\n",
       "      <th>1580</th>\n",
       "      <td>33</td>\n",
       "      <td>58</td>\n",
       "      <td>1092</td>\n",
       "    </tr>\n",
       "    <tr>\n",
       "      <th>1581</th>\n",
       "      <td>33</td>\n",
       "      <td>59</td>\n",
       "      <td>598</td>\n",
       "    </tr>\n",
       "  </tbody>\n",
       "</table>\n",
       "<p>1050 rows × 3 columns</p>\n",
       "</div>"
      ],
      "text/plain": [
       "      date_block_num  shop_name  item_cnt_day\n",
       "2                  0          2           925\n",
       "3                  0          3           698\n",
       "7                  0          8          1270\n",
       "8                  0         10           803\n",
       "9                  0         12           513\n",
       "...              ...        ...           ...\n",
       "1576              33         53           766\n",
       "1577              33         55          1006\n",
       "1578              33         56           960\n",
       "1580              33         58          1092\n",
       "1581              33         59           598\n",
       "\n",
       "[1050 rows x 3 columns]"
      ]
     },
     "execution_count": 14,
     "metadata": {},
     "output_type": "execute_result"
    }
   ],
   "source": [
    "g1"
   ]
  },
  {
   "cell_type": "code",
   "execution_count": 16,
   "metadata": {},
   "outputs": [
    {
     "data": {
      "text/plain": [
       "<matplotlib.axes._subplots.AxesSubplot at 0x1e000b9e2c8>"
      ]
     },
     "execution_count": 16,
     "metadata": {},
     "output_type": "execute_result"
    },
    {
     "data": {
      "image/png": "[encoded data removed]",
      "text/plain": [
       "<Figure size 432x288 with 1 Axes>"
      ]
     },
     "metadata": {
      "needs_background": "light"
     },
     "output_type": "display_data"
    },
    {
     "data": {
      "image/png": "[encoded data removed]",
      "text/plain": [
       "<Figure size 432x288 with 1 Axes>"
      ]
     },
     "metadata": {
      "needs_background": "light"
     },
     "output_type": "display_data"
    },
    {
     "data": {
      "image/png": "[encoded data removed]",
      "text/plain": [
       "<Figure size 432x288 with 1 Axes>"
      ]
     },
     "metadata": {
      "needs_background": "light"
     },
     "output_type": "display_data"
    }
   ],
   "source": [
    "g1.plot(x=\"date_block_num\", y=[\"item_cnt_day\",\"shop_name\"],kind = 'line', title = \"<1500\")\n",
    "g2.plot(x=\"date_block_num\", y=[\"item_cnt_day\",\"shop_name\"],kind = 'line',title = \">1500 and <3000\")\n",
    "g3.plot(x=\"date_block_num\", y=[\"item_cnt_day\",\"shop_name\"],kind = 'line', title = \">3000 and <5000\")"
   ]
  },
  {
   "cell_type": "code",
   "execution_count": 17,
   "metadata": {
    "scrolled": true
   },
   "outputs": [
    {
     "data": {
      "text/plain": [
       "315"
      ]
     },
     "execution_count": 17,
     "metadata": {},
     "output_type": "execute_result"
    },
    {
     "data": {
      "image/png": "[encoded data removed]",
      "text/plain": [
       "<Figure size 432x288 with 1 Axes>"
      ]
     },
     "metadata": {
      "needs_background": "light"
     },
     "output_type": "display_data"
    }
   ],
   "source": [
    "g1_tenth = g1.sample(frac = .1, random_state=np.random.randint(10))\n",
    "g1_tenth = g1_tenth.sort_values(by=['date_block_num'], ascending=True)\n",
    "g1_tenth.head()\n",
    "g1_tenth.plot(x=\"date_block_num\", y=[\"item_cnt_day\"],kind = 'line', title = \"<1500\")\n",
    "g1_tenth.size"
   ]
  },
  {
   "cell_type": "code",
   "execution_count": 18,
   "metadata": {},
   "outputs": [
    {
     "name": "stderr",
     "output_type": "stream",
     "text": [
      "F:\\Anaconda\\lib\\site-packages\\ipykernel_launcher.py:1: SettingWithCopyWarning: \n",
      "A value is trying to be set on a copy of a slice from a DataFrame.\n",
      "Try using .loc[row_indexer,col_indexer] = value instead\n",
      "\n",
      "See the caveats in the documentation: https://pandas.pydata.org/pandas-docs/stable/user_guide/indexing.html#returning-a-view-versus-a-copy\n",
      "  \"\"\"Entry point for launching an IPython kernel.\n"
     ]
    },
    {
     "data": {
      "text/html": [
       "<div>\n",
       "<style scoped>\n",
       "    .dataframe tbody tr th:only-of-type {\n",
       "        vertical-align: middle;\n",
       "    }\n",
       "\n",
       "    .dataframe tbody tr th {\n",
       "        vertical-align: top;\n",
       "    }\n",
       "\n",
       "    .dataframe thead th {\n",
       "        text-align: right;\n",
       "    }\n",
       "</style>\n",
       "<table border=\"1\" class=\"dataframe\">\n",
       "  <thead>\n",
       "    <tr style=\"text-align: right;\">\n",
       "      <th></th>\n",
       "      <th>date_block_num</th>\n",
       "      <th>shop_name</th>\n",
       "      <th>item_cnt_day</th>\n",
       "      <th>rolling_Mean</th>\n",
       "    </tr>\n",
       "  </thead>\n",
       "  <tbody>\n",
       "    <tr>\n",
       "      <th>2</th>\n",
       "      <td>0</td>\n",
       "      <td>2</td>\n",
       "      <td>925</td>\n",
       "      <td>NaN</td>\n",
       "    </tr>\n",
       "    <tr>\n",
       "      <th>3</th>\n",
       "      <td>0</td>\n",
       "      <td>3</td>\n",
       "      <td>698</td>\n",
       "      <td>NaN</td>\n",
       "    </tr>\n",
       "    <tr>\n",
       "      <th>7</th>\n",
       "      <td>0</td>\n",
       "      <td>8</td>\n",
       "      <td>1270</td>\n",
       "      <td>NaN</td>\n",
       "    </tr>\n",
       "    <tr>\n",
       "      <th>8</th>\n",
       "      <td>0</td>\n",
       "      <td>10</td>\n",
       "      <td>803</td>\n",
       "      <td>NaN</td>\n",
       "    </tr>\n",
       "    <tr>\n",
       "      <th>9</th>\n",
       "      <td>0</td>\n",
       "      <td>12</td>\n",
       "      <td>513</td>\n",
       "      <td>NaN</td>\n",
       "    </tr>\n",
       "    <tr>\n",
       "      <th>...</th>\n",
       "      <td>...</td>\n",
       "      <td>...</td>\n",
       "      <td>...</td>\n",
       "      <td>...</td>\n",
       "    </tr>\n",
       "    <tr>\n",
       "      <th>1576</th>\n",
       "      <td>33</td>\n",
       "      <td>53</td>\n",
       "      <td>766</td>\n",
       "      <td>709.471429</td>\n",
       "    </tr>\n",
       "    <tr>\n",
       "      <th>1577</th>\n",
       "      <td>33</td>\n",
       "      <td>55</td>\n",
       "      <td>1006</td>\n",
       "      <td>716.128571</td>\n",
       "    </tr>\n",
       "    <tr>\n",
       "      <th>1578</th>\n",
       "      <td>33</td>\n",
       "      <td>56</td>\n",
       "      <td>960</td>\n",
       "      <td>718.971429</td>\n",
       "    </tr>\n",
       "    <tr>\n",
       "      <th>1580</th>\n",
       "      <td>33</td>\n",
       "      <td>58</td>\n",
       "      <td>1092</td>\n",
       "      <td>719.714286</td>\n",
       "    </tr>\n",
       "    <tr>\n",
       "      <th>1581</th>\n",
       "      <td>33</td>\n",
       "      <td>59</td>\n",
       "      <td>598</td>\n",
       "      <td>715.714286</td>\n",
       "    </tr>\n",
       "  </tbody>\n",
       "</table>\n",
       "<p>1050 rows × 4 columns</p>\n",
       "</div>"
      ],
      "text/plain": [
       "      date_block_num  shop_name  item_cnt_day  rolling_Mean\n",
       "2                  0          2           925           NaN\n",
       "3                  0          3           698           NaN\n",
       "7                  0          8          1270           NaN\n",
       "8                  0         10           803           NaN\n",
       "9                  0         12           513           NaN\n",
       "...              ...        ...           ...           ...\n",
       "1576              33         53           766    709.471429\n",
       "1577              33         55          1006    716.128571\n",
       "1578              33         56           960    718.971429\n",
       "1580              33         58          1092    719.714286\n",
       "1581              33         59           598    715.714286\n",
       "\n",
       "[1050 rows x 4 columns]"
      ]
     },
     "execution_count": 18,
     "metadata": {},
     "output_type": "execute_result"
    },
    {
     "data": {
      "image/png": "[encoded data removed]",
      "text/plain": [
       "<Figure size 432x288 with 1 Axes>"
      ]
     },
     "metadata": {
      "needs_background": "light"
     },
     "output_type": "display_data"
    }
   ],
   "source": [
    "g1['rolling_Mean'] = g1['item_cnt_day'].rolling(window=70).mean()\n",
    "g1.plot(x=\"date_block_num\", y=[\"rolling_Mean\"],kind = 'line', title = \"<1500\")\n",
    "g1"
   ]
  },
  {
   "cell_type": "code",
   "execution_count": 19,
   "metadata": {},
   "outputs": [
    {
     "data": {
      "text/html": [
       "<div>\n",
       "<style scoped>\n",
       "    .dataframe tbody tr th:only-of-type {\n",
       "        vertical-align: middle;\n",
       "    }\n",
       "\n",
       "    .dataframe tbody tr th {\n",
       "        vertical-align: top;\n",
       "    }\n",
       "\n",
       "    .dataframe thead th {\n",
       "        text-align: right;\n",
       "    }\n",
       "</style>\n",
       "<table border=\"1\" class=\"dataframe\">\n",
       "  <thead>\n",
       "    <tr style=\"text-align: right;\">\n",
       "      <th></th>\n",
       "      <th>date_block_num</th>\n",
       "      <th>shop_name</th>\n",
       "      <th>item_cnt_day</th>\n",
       "    </tr>\n",
       "  </thead>\n",
       "  <tbody>\n",
       "    <tr>\n",
       "      <th>87</th>\n",
       "      <td>1</td>\n",
       "      <td>53</td>\n",
       "      <td>1510</td>\n",
       "    </tr>\n",
       "    <tr>\n",
       "      <th>106</th>\n",
       "      <td>2</td>\n",
       "      <td>21</td>\n",
       "      <td>1749</td>\n",
       "    </tr>\n",
       "    <tr>\n",
       "      <th>124</th>\n",
       "      <td>2</td>\n",
       "      <td>44</td>\n",
       "      <td>1627</td>\n",
       "    </tr>\n",
       "    <tr>\n",
       "      <th>102</th>\n",
       "      <td>2</td>\n",
       "      <td>15</td>\n",
       "      <td>2008</td>\n",
       "    </tr>\n",
       "    <tr>\n",
       "      <th>105</th>\n",
       "      <td>2</td>\n",
       "      <td>19</td>\n",
       "      <td>2268</td>\n",
       "    </tr>\n",
       "  </tbody>\n",
       "</table>\n",
       "</div>"
      ],
      "text/plain": [
       "     date_block_num  shop_name  item_cnt_day\n",
       "87                1         53          1510\n",
       "106               2         21          1749\n",
       "124               2         44          1627\n",
       "102               2         15          2008\n",
       "105               2         19          2268"
      ]
     },
     "execution_count": 19,
     "metadata": {},
     "output_type": "execute_result"
    }
   ],
   "source": [
    "g2_tenth = g2.sample(frac = .1, random_state=np.random.randint(10))\n",
    "g2_tenth = g2_tenth.sort_values(by=['date_block_num'], ascending=True)\n",
    "g2_tenth.head()\n",
    "#shop sales in every month are varying"
   ]
  },
  {
   "cell_type": "code",
   "execution_count": 20,
   "metadata": {},
   "outputs": [
    {
     "data": {
      "text/html": [
       "<div>\n",
       "<style scoped>\n",
       "    .dataframe tbody tr th:only-of-type {\n",
       "        vertical-align: middle;\n",
       "    }\n",
       "\n",
       "    .dataframe tbody tr th {\n",
       "        vertical-align: top;\n",
       "    }\n",
       "\n",
       "    .dataframe thead th {\n",
       "        text-align: right;\n",
       "    }\n",
       "</style>\n",
       "<table border=\"1\" class=\"dataframe\">\n",
       "  <thead>\n",
       "    <tr style=\"text-align: right;\">\n",
       "      <th></th>\n",
       "      <th>date_block_num</th>\n",
       "      <th>shop_name</th>\n",
       "      <th>item_cnt_day</th>\n",
       "    </tr>\n",
       "  </thead>\n",
       "  <tbody>\n",
       "    <tr>\n",
       "      <th>23</th>\n",
       "      <td>0</td>\n",
       "      <td>28</td>\n",
       "      <td>4685</td>\n",
       "    </tr>\n",
       "    <tr>\n",
       "      <th>224</th>\n",
       "      <td>4</td>\n",
       "      <td>57</td>\n",
       "      <td>4081</td>\n",
       "    </tr>\n",
       "    <tr>\n",
       "      <th>494</th>\n",
       "      <td>10</td>\n",
       "      <td>54</td>\n",
       "      <td>4561</td>\n",
       "    </tr>\n",
       "    <tr>\n",
       "      <th>610</th>\n",
       "      <td>13</td>\n",
       "      <td>25</td>\n",
       "      <td>4537</td>\n",
       "    </tr>\n",
       "    <tr>\n",
       "      <th>632</th>\n",
       "      <td>13</td>\n",
       "      <td>54</td>\n",
       "      <td>3835</td>\n",
       "    </tr>\n",
       "  </tbody>\n",
       "</table>\n",
       "</div>"
      ],
      "text/plain": [
       "     date_block_num  shop_name  item_cnt_day\n",
       "23                0         28          4685\n",
       "224               4         57          4081\n",
       "494              10         54          4561\n",
       "610              13         25          4537\n",
       "632              13         54          3835"
      ]
     },
     "execution_count": 20,
     "metadata": {},
     "output_type": "execute_result"
    }
   ],
   "source": [
    "g3_tenth = g3.sample(frac = .1, random_state=np.random.randint(10))\n",
    "g3_tenth = g3_tenth.sort_values(by=['date_block_num'], ascending=True)\n",
    "g3_tenth.head()"
   ]
  },
  {
   "cell_type": "code",
   "execution_count": null,
   "metadata": {},
   "outputs": [],
   "source": [
    "from tsfresh import extract_features\n",
    "extracted_features = extract_features(shop_month_sales, column_id=\"date_block_num\", column_sort=\"date_block_num\")"
   ]
  }
 ],
 "metadata": {
  "kernelspec": {
   "display_name": "Python 3",
   "language": "python",
   "name": "python3"
  },
  "language_info": {
   "codemirror_mode": {
    "name": "ipython",
    "version": 3
   },
   "file_extension": ".py",
   "mimetype": "text/x-python",
   "name": "python",
   "nbconvert_exporter": "python",
   "pygments_lexer": "ipython3",
   "version": "3.7.6"
  }
 },
 "nbformat": 4,
 "nbformat_minor": 4
}
