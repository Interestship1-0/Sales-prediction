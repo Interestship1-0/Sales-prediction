{
 "cells": [
  {
   "cell_type": "code",
   "execution_count": 4,
   "metadata": {},
   "outputs": [
    {
     "name": "stdout",
     "output_type": "stream",
     "text": [
      "The autoreload extension is already loaded. To reload it, use:\n",
      "  %reload_ext autoreload\n"
     ]
    }
   ],
   "source": [
    "%load_ext autoreload\n",
    "\n",
    "# always reload modules marked with \"%aimport\"\n",
    "%autoreload 1\n",
    "import os\n",
    "import sys\n",
    "# add the 'src' directory as one where we can import modules\n",
    "src_dir = os.path.join(os.getcwd(), os.pardir, 'src')\n",
    "sys.path.append(src_dir)\n",
    "\n",
    "import matplotlib.pyplot as plt\n",
    "%matplotlib inline\n",
    "from dotenv import load_dotenv\n",
    "%aimport settings\n",
    "import settings\n",
    "import pandas as pd\n",
    "import numpy as np\n",
    "\n",
    "maxsize=3000\n",
    "np.set_printoptions(threshold=sys.maxsize)\n",
    "pd.options.display.max_columns = 999\n",
    "pd.options.display.max_rows = 352905\n",
    "\n",
    "import statsmodels.api as sm\n",
    "from tqdm import trange\n",
    "from tqdm import tqdm\n",
    "import warnings\n",
    "import math\n",
    "from sklearn.preprocessing import PolynomialFeatures\n",
    "warnings.filterwarnings('ignore')\n",
    "from sklearn.model_selection import train_test_split"
   ]
  },
  {
   "cell_type": "code",
   "execution_count": 5,
   "metadata": {},
   "outputs": [],
   "source": [
    "import numpy as np # linear algebra\n",
    "import pandas as pd # data processing, CSV file I/O (e.g. pd.read_csv)\n",
    "import seaborn as sns"
   ]
  },
  {
   "cell_type": "code",
   "execution_count": 6,
   "metadata": {},
   "outputs": [],
   "source": [
    "sales=pd.read_csv(settings.raw_data+'/sales_train.csv')\n",
    "item_cat=pd.read_csv(settings.raw_data+\"/item_categories.csv\")\n",
    "item=pd.read_csv(settings.raw_data+\"/items.csv\")\n",
    "sub=pd.read_csv(settings.raw_data+\"/sample_submission.csv\")\n",
    "shops=pd.read_csv(settings.raw_data+\"/shops.csv\")\n",
    "test=pd.read_csv(settings.raw_data+\"/test.csv\")"
   ]
  },
  {
   "cell_type": "markdown",
   "metadata": {},
   "source": [
    "#### EDA"
   ]
  },
  {
   "cell_type": "code",
   "execution_count": 7,
   "metadata": {},
   "outputs": [],
   "source": [
    "sales_item_price = sales[['item_id','item_price']].drop_duplicates(keep = 'first')"
   ]
  },
  {
   "cell_type": "code",
   "execution_count": 8,
   "metadata": {},
   "outputs": [
    {
     "data": {
      "text/plain": [
       "(120216, 2)"
      ]
     },
     "execution_count": 8,
     "metadata": {},
     "output_type": "execute_result"
    }
   ],
   "source": [
    "sales_item_price.shape"
   ]
  },
  {
   "cell_type": "code",
   "execution_count": 9,
   "metadata": {},
   "outputs": [
    {
     "data": {
      "text/html": [
       "<div>\n",
       "<style scoped>\n",
       "    .dataframe tbody tr th:only-of-type {\n",
       "        vertical-align: middle;\n",
       "    }\n",
       "\n",
       "    .dataframe tbody tr th {\n",
       "        vertical-align: top;\n",
       "    }\n",
       "\n",
       "    .dataframe thead th {\n",
       "        text-align: right;\n",
       "    }\n",
       "</style>\n",
       "<table border=\"1\" class=\"dataframe\">\n",
       "  <thead>\n",
       "    <tr style=\"text-align: right;\">\n",
       "      <th></th>\n",
       "      <th>date</th>\n",
       "      <th>date_block_num</th>\n",
       "      <th>shop_id</th>\n",
       "      <th>item_id</th>\n",
       "      <th>item_price</th>\n",
       "      <th>item_cnt_day</th>\n",
       "    </tr>\n",
       "  </thead>\n",
       "  <tbody>\n",
       "    <tr>\n",
       "      <td>0</td>\n",
       "      <td>02.01.2013</td>\n",
       "      <td>0</td>\n",
       "      <td>59</td>\n",
       "      <td>22154</td>\n",
       "      <td>999.00</td>\n",
       "      <td>1.0</td>\n",
       "    </tr>\n",
       "    <tr>\n",
       "      <td>1</td>\n",
       "      <td>03.01.2013</td>\n",
       "      <td>0</td>\n",
       "      <td>25</td>\n",
       "      <td>2552</td>\n",
       "      <td>899.00</td>\n",
       "      <td>1.0</td>\n",
       "    </tr>\n",
       "    <tr>\n",
       "      <td>2</td>\n",
       "      <td>05.01.2013</td>\n",
       "      <td>0</td>\n",
       "      <td>25</td>\n",
       "      <td>2552</td>\n",
       "      <td>899.00</td>\n",
       "      <td>-1.0</td>\n",
       "    </tr>\n",
       "    <tr>\n",
       "      <td>3</td>\n",
       "      <td>06.01.2013</td>\n",
       "      <td>0</td>\n",
       "      <td>25</td>\n",
       "      <td>2554</td>\n",
       "      <td>1709.05</td>\n",
       "      <td>1.0</td>\n",
       "    </tr>\n",
       "    <tr>\n",
       "      <td>4</td>\n",
       "      <td>15.01.2013</td>\n",
       "      <td>0</td>\n",
       "      <td>25</td>\n",
       "      <td>2555</td>\n",
       "      <td>1099.00</td>\n",
       "      <td>1.0</td>\n",
       "    </tr>\n",
       "  </tbody>\n",
       "</table>\n",
       "</div>"
      ],
      "text/plain": [
       "         date  date_block_num  shop_id  item_id  item_price  item_cnt_day\n",
       "0  02.01.2013               0       59    22154      999.00           1.0\n",
       "1  03.01.2013               0       25     2552      899.00           1.0\n",
       "2  05.01.2013               0       25     2552      899.00          -1.0\n",
       "3  06.01.2013               0       25     2554     1709.05           1.0\n",
       "4  15.01.2013               0       25     2555     1099.00           1.0"
      ]
     },
     "execution_count": 9,
     "metadata": {},
     "output_type": "execute_result"
    }
   ],
   "source": [
    "sales.head()"
   ]
  },
  {
   "cell_type": "code",
   "execution_count": 43,
   "metadata": {
    "collapsed": true
   },
   "outputs": [
    {
     "data": {
      "text/html": [
       "<div>\n",
       "<style scoped>\n",
       "    .dataframe tbody tr th:only-of-type {\n",
       "        vertical-align: middle;\n",
       "    }\n",
       "\n",
       "    .dataframe tbody tr th {\n",
       "        vertical-align: top;\n",
       "    }\n",
       "\n",
       "    .dataframe thead th {\n",
       "        text-align: right;\n",
       "    }\n",
       "</style>\n",
       "<table border=\"1\" class=\"dataframe\">\n",
       "  <thead>\n",
       "    <tr style=\"text-align: right;\">\n",
       "      <th></th>\n",
       "      <th>item_category_name</th>\n",
       "      <th>item_category_id</th>\n",
       "    </tr>\n",
       "  </thead>\n",
       "  <tbody>\n",
       "    <tr>\n",
       "      <td>1</td>\n",
       "      <td>Аксессуары - PS2</td>\n",
       "      <td>1</td>\n",
       "    </tr>\n",
       "    <tr>\n",
       "      <td>2</td>\n",
       "      <td>Аксессуары - PS3</td>\n",
       "      <td>2</td>\n",
       "    </tr>\n",
       "    <tr>\n",
       "      <td>3</td>\n",
       "      <td>Аксессуары - PS4</td>\n",
       "      <td>3</td>\n",
       "    </tr>\n",
       "    <tr>\n",
       "      <td>4</td>\n",
       "      <td>Аксессуары - PSP</td>\n",
       "      <td>4</td>\n",
       "    </tr>\n",
       "    <tr>\n",
       "      <td>5</td>\n",
       "      <td>Аксессуары - PSVita</td>\n",
       "      <td>5</td>\n",
       "    </tr>\n",
       "    <tr>\n",
       "      <td>10</td>\n",
       "      <td>Игровые консоли - PS2</td>\n",
       "      <td>10</td>\n",
       "    </tr>\n",
       "    <tr>\n",
       "      <td>11</td>\n",
       "      <td>Игровые консоли - PS3</td>\n",
       "      <td>11</td>\n",
       "    </tr>\n",
       "    <tr>\n",
       "      <td>12</td>\n",
       "      <td>Игровые консоли - PS4</td>\n",
       "      <td>12</td>\n",
       "    </tr>\n",
       "    <tr>\n",
       "      <td>13</td>\n",
       "      <td>Игровые консоли - PSP</td>\n",
       "      <td>13</td>\n",
       "    </tr>\n",
       "    <tr>\n",
       "      <td>14</td>\n",
       "      <td>Игровые консоли - PSVita</td>\n",
       "      <td>14</td>\n",
       "    </tr>\n",
       "    <tr>\n",
       "      <td>18</td>\n",
       "      <td>Игры - PS2</td>\n",
       "      <td>18</td>\n",
       "    </tr>\n",
       "    <tr>\n",
       "      <td>19</td>\n",
       "      <td>Игры - PS3</td>\n",
       "      <td>19</td>\n",
       "    </tr>\n",
       "    <tr>\n",
       "      <td>20</td>\n",
       "      <td>Игры - PS4</td>\n",
       "      <td>20</td>\n",
       "    </tr>\n",
       "    <tr>\n",
       "      <td>21</td>\n",
       "      <td>Игры - PSP</td>\n",
       "      <td>21</td>\n",
       "    </tr>\n",
       "    <tr>\n",
       "      <td>22</td>\n",
       "      <td>Игры - PSVita</td>\n",
       "      <td>22</td>\n",
       "    </tr>\n",
       "    <tr>\n",
       "      <td>35</td>\n",
       "      <td>Карты оплаты - PSN</td>\n",
       "      <td>35</td>\n",
       "    </tr>\n",
       "  </tbody>\n",
       "</table>\n",
       "</div>"
      ],
      "text/plain": [
       "          item_category_name  item_category_id\n",
       "1           Аксессуары - PS2                 1\n",
       "2           Аксессуары - PS3                 2\n",
       "3           Аксессуары - PS4                 3\n",
       "4           Аксессуары - PSP                 4\n",
       "5        Аксессуары - PSVita                 5\n",
       "10     Игровые консоли - PS2                10\n",
       "11     Игровые консоли - PS3                11\n",
       "12     Игровые консоли - PS4                12\n",
       "13     Игровые консоли - PSP                13\n",
       "14  Игровые консоли - PSVita                14\n",
       "18                Игры - PS2                18\n",
       "19                Игры - PS3                19\n",
       "20                Игры - PS4                20\n",
       "21                Игры - PSP                21\n",
       "22             Игры - PSVita                22\n",
       "35        Карты оплаты - PSN                35"
      ]
     },
     "execution_count": 43,
     "metadata": {},
     "output_type": "execute_result"
    }
   ],
   "source": [
    "item_cat[item_cat.item_category_name.str.contains('PS')]"
   ]
  },
  {
   "cell_type": "code",
   "execution_count": 56,
   "metadata": {
    "collapsed": true
   },
   "outputs": [
    {
     "data": {
      "text/html": [
       "<div>\n",
       "<style scoped>\n",
       "    .dataframe tbody tr th:only-of-type {\n",
       "        vertical-align: middle;\n",
       "    }\n",
       "\n",
       "    .dataframe tbody tr th {\n",
       "        vertical-align: top;\n",
       "    }\n",
       "\n",
       "    .dataframe thead th {\n",
       "        text-align: right;\n",
       "    }\n",
       "</style>\n",
       "<table border=\"1\" class=\"dataframe\">\n",
       "  <thead>\n",
       "    <tr style=\"text-align: right;\">\n",
       "      <th></th>\n",
       "      <th>ID</th>\n",
       "      <th>shop_id</th>\n",
       "      <th>item_id</th>\n",
       "    </tr>\n",
       "  </thead>\n",
       "  <tbody>\n",
       "    <tr>\n",
       "      <td>0</td>\n",
       "      <td>0</td>\n",
       "      <td>5</td>\n",
       "      <td>5037</td>\n",
       "    </tr>\n",
       "    <tr>\n",
       "      <td>1</td>\n",
       "      <td>1</td>\n",
       "      <td>5</td>\n",
       "      <td>5320</td>\n",
       "    </tr>\n",
       "    <tr>\n",
       "      <td>2</td>\n",
       "      <td>2</td>\n",
       "      <td>5</td>\n",
       "      <td>5233</td>\n",
       "    </tr>\n",
       "    <tr>\n",
       "      <td>3</td>\n",
       "      <td>3</td>\n",
       "      <td>5</td>\n",
       "      <td>5232</td>\n",
       "    </tr>\n",
       "    <tr>\n",
       "      <td>4</td>\n",
       "      <td>4</td>\n",
       "      <td>5</td>\n",
       "      <td>5268</td>\n",
       "    </tr>\n",
       "  </tbody>\n",
       "</table>\n",
       "</div>"
      ],
      "text/plain": [
       "   ID  shop_id  item_id\n",
       "0   0        5     5037\n",
       "1   1        5     5320\n",
       "2   2        5     5233\n",
       "3   3        5     5232\n",
       "4   4        5     5268"
      ]
     },
     "execution_count": 56,
     "metadata": {},
     "output_type": "execute_result"
    }
   ],
   "source": [
    "test.head()"
   ]
  },
  {
   "cell_type": "code",
   "execution_count": 55,
   "metadata": {
    "collapsed": true
   },
   "outputs": [
    {
     "data": {
      "text/plain": [
       "40    5035\n",
       "55    2365\n",
       "37    1780\n",
       "31    1125\n",
       "58     790\n",
       "30     756\n",
       "72     666\n",
       "19     628\n",
       "61     598\n",
       "23     501\n",
       "43     471\n",
       "57     427\n",
       "56     397\n",
       "67     394\n",
       "63     366\n",
       "76     333\n",
       "41     332\n",
       "69     317\n",
       "38     310\n",
       "62     295\n",
       "59     294\n",
       "64     290\n",
       "78     278\n",
       "75     277\n",
       "28     240\n",
       "70     228\n",
       "77     220\n",
       "45     195\n",
       "66     178\n",
       "20     175\n",
       "49     167\n",
       "65     163\n",
       "44     161\n",
       "47     151\n",
       "25     140\n",
       "21     125\n",
       "24     123\n",
       "54      90\n",
       "22      79\n",
       "2       75\n",
       "60      52\n",
       "29      46\n",
       "11      41\n",
       "6       40\n",
       "15      37\n",
       "73      36\n",
       "3       34\n",
       "5       29\n",
       "68      27\n",
       "7       24\n",
       "12      20\n",
       "16      20\n",
       "33      18\n",
       "14      18\n",
       "4       15\n",
       "83      15\n",
       "42      12\n",
       "9       12\n",
       "46      12\n",
       "8        9\n",
       "82       8\n",
       "34       8\n",
       "27       8\n",
       "74       8\n",
       "17       7\n",
       "81       7\n",
       "39       7\n",
       "71       6\n",
       "36       6\n",
       "32       6\n",
       "80       6\n",
       "18       6\n",
       "13       6\n",
       "48       5\n",
       "0        4\n",
       "35       4\n",
       "52       3\n",
       "53       3\n",
       "26       3\n",
       "50       2\n",
       "1        2\n",
       "51       1\n",
       "10       1\n",
       "79       1\n",
       "Name: item_category_id, dtype: int64"
      ]
     },
     "execution_count": 55,
     "metadata": {},
     "output_type": "execute_result"
    }
   ],
   "source": [
    "item.item_category_id.value_counts()"
   ]
  },
  {
   "cell_type": "markdown",
   "metadata": {},
   "source": [
    "### merge dataframe"
   ]
  },
  {
   "cell_type": "code",
   "execution_count": 10,
   "metadata": {},
   "outputs": [],
   "source": [
    "pd.options.display.max_rows = 999\n",
    "sales['date'] = pd.to_datetime(sales['date'], format='%Y-%m-%d',infer_datetime_format=True)\n",
    "sales_items = sales[['item_id','item_price']].drop_duplicates(keep='first')"
   ]
  },
  {
   "cell_type": "code",
   "execution_count": 11,
   "metadata": {},
   "outputs": [],
   "source": [
    "sales_shop = pd.merge(sales, shops, on='shop_id', how='left')\n",
    "df_train = pd.merge(sales_shop, pd.merge(item, item_cat, on='item_category_id', how='left'), on='item_id', how='left')"
   ]
  },
  {
   "cell_type": "code",
   "execution_count": 12,
   "metadata": {},
   "outputs": [
    {
     "data": {
      "text/plain": [
       "count    2.935849e+06\n",
       "mean     1.242641e+00\n",
       "std      2.618834e+00\n",
       "min     -2.200000e+01\n",
       "25%      1.000000e+00\n",
       "50%      1.000000e+00\n",
       "75%      1.000000e+00\n",
       "max      2.169000e+03\n",
       "Name: item_cnt_day, dtype: float64"
      ]
     },
     "execution_count": 12,
     "metadata": {},
     "output_type": "execute_result"
    }
   ],
   "source": [
    "df_train.item_cnt_day.describe()\n",
    "#sns.distplot(df_train_agg.item_cnt_day)"
   ]
  },
  {
   "cell_type": "code",
   "execution_count": 13,
   "metadata": {},
   "outputs": [],
   "source": [
    "df_train = df_train[(df_train['item_cnt_day']>0) & (df_train['item_cnt_day']<df_train['item_cnt_day'].max())].copy()\n",
    "df_train.sort_values(['date','shop_id','item_id'], inplace = True)"
   ]
  },
  {
   "cell_type": "code",
   "execution_count": 170,
   "metadata": {},
   "outputs": [
    {
     "data": {
      "text/html": [
       "<div>\n",
       "<style scoped>\n",
       "    .dataframe tbody tr th:only-of-type {\n",
       "        vertical-align: middle;\n",
       "    }\n",
       "\n",
       "    .dataframe tbody tr th {\n",
       "        vertical-align: top;\n",
       "    }\n",
       "\n",
       "    .dataframe thead th {\n",
       "        text-align: right;\n",
       "    }\n",
       "</style>\n",
       "<table border=\"1\" class=\"dataframe\">\n",
       "  <thead>\n",
       "    <tr style=\"text-align: right;\">\n",
       "      <th></th>\n",
       "      <th>date</th>\n",
       "      <th>date_block_num</th>\n",
       "      <th>shop_id</th>\n",
       "      <th>item_id</th>\n",
       "      <th>item_price</th>\n",
       "      <th>item_cnt_day</th>\n",
       "      <th>shop_name</th>\n",
       "      <th>item_name</th>\n",
       "      <th>item_category_id</th>\n",
       "      <th>item_category_name</th>\n",
       "    </tr>\n",
       "  </thead>\n",
       "  <tbody>\n",
       "    <tr>\n",
       "      <td>32569</td>\n",
       "      <td>01.01.2013</td>\n",
       "      <td>0</td>\n",
       "      <td>2</td>\n",
       "      <td>991</td>\n",
       "      <td>99.0</td>\n",
       "      <td>1.0</td>\n",
       "      <td>Адыгея ТЦ \"Мега\"</td>\n",
       "      <td>3D Action Puzzle \"Динозавры\" Тиранозавр</td>\n",
       "      <td>67</td>\n",
       "      <td>Подарки - Развитие</td>\n",
       "    </tr>\n",
       "    <tr>\n",
       "      <td>32552</td>\n",
       "      <td>01.01.2013</td>\n",
       "      <td>0</td>\n",
       "      <td>2</td>\n",
       "      <td>1472</td>\n",
       "      <td>2599.0</td>\n",
       "      <td>1.0</td>\n",
       "      <td>Адыгея ТЦ \"Мега\"</td>\n",
       "      <td>Assassin's Creed 3 [Xbox 360, русская версия]</td>\n",
       "      <td>23</td>\n",
       "      <td>Игры - XBOX 360</td>\n",
       "    </tr>\n",
       "    <tr>\n",
       "      <td>32632</td>\n",
       "      <td>01.01.2013</td>\n",
       "      <td>0</td>\n",
       "      <td>2</td>\n",
       "      <td>1905</td>\n",
       "      <td>249.0</td>\n",
       "      <td>1.0</td>\n",
       "      <td>Адыгея ТЦ \"Мега\"</td>\n",
       "      <td>Bestseller. Grand Theft Auto: San Andreas [PC,...</td>\n",
       "      <td>30</td>\n",
       "      <td>Игры PC - Стандартные издания</td>\n",
       "    </tr>\n",
       "    <tr>\n",
       "      <td>32459</td>\n",
       "      <td>01.01.2013</td>\n",
       "      <td>0</td>\n",
       "      <td>2</td>\n",
       "      <td>2920</td>\n",
       "      <td>599.0</td>\n",
       "      <td>2.0</td>\n",
       "      <td>Адыгея ТЦ \"Мега\"</td>\n",
       "      <td>Disney. LEGO Пираты Карибского моря (Essential...</td>\n",
       "      <td>21</td>\n",
       "      <td>Игры - PSP</td>\n",
       "    </tr>\n",
       "    <tr>\n",
       "      <td>32504</td>\n",
       "      <td>01.01.2013</td>\n",
       "      <td>0</td>\n",
       "      <td>2</td>\n",
       "      <td>3320</td>\n",
       "      <td>1999.0</td>\n",
       "      <td>1.0</td>\n",
       "      <td>Адыгея ТЦ \"Мега\"</td>\n",
       "      <td>FIFA 13 (с поддержкой PS Move) [PS3, русская в...</td>\n",
       "      <td>19</td>\n",
       "      <td>Игры - PS3</td>\n",
       "    </tr>\n",
       "  </tbody>\n",
       "</table>\n",
       "</div>"
      ],
      "text/plain": [
       "             date  date_block_num  shop_id  item_id  item_price  item_cnt_day  \\\n",
       "32569  01.01.2013               0        2      991        99.0           1.0   \n",
       "32552  01.01.2013               0        2     1472      2599.0           1.0   \n",
       "32632  01.01.2013               0        2     1905       249.0           1.0   \n",
       "32459  01.01.2013               0        2     2920       599.0           2.0   \n",
       "32504  01.01.2013               0        2     3320      1999.0           1.0   \n",
       "\n",
       "              shop_name                                          item_name  \\\n",
       "32569  Адыгея ТЦ \"Мега\"            3D Action Puzzle \"Динозавры\" Тиранозавр   \n",
       "32552  Адыгея ТЦ \"Мега\"      Assassin's Creed 3 [Xbox 360, русская версия]   \n",
       "32632  Адыгея ТЦ \"Мега\"  Bestseller. Grand Theft Auto: San Andreas [PC,...   \n",
       "32459  Адыгея ТЦ \"Мега\"  Disney. LEGO Пираты Карибского моря (Essential...   \n",
       "32504  Адыгея ТЦ \"Мега\"  FIFA 13 (с поддержкой PS Move) [PS3, русская в...   \n",
       "\n",
       "       item_category_id             item_category_name  \n",
       "32569                67             Подарки - Развитие  \n",
       "32552                23                Игры - XBOX 360  \n",
       "32632                30  Игры PC - Стандартные издания  \n",
       "32459                21                     Игры - PSP  \n",
       "32504                19                     Игры - PS3  "
      ]
     },
     "execution_count": 170,
     "metadata": {},
     "output_type": "execute_result"
    }
   ],
   "source": [
    "df_train.head()"
   ]
  },
  {
   "cell_type": "code",
   "execution_count": 15,
   "metadata": {},
   "outputs": [],
   "source": [
    "##Aggregate item count at monthly level\n",
    "features = ['item_price']\n",
    "col = 'item_cnt_day'\n",
    "df_agg = df_train.groupby(['shop_id','item_id','date_block_num'])['item_cnt_day'].sum().reset_index(drop = False)\n",
    "df_train_agg = pd.merge(df_agg, pd.merge(item, item_cat, on='item_category_id', how='left'), on='item_id', how='left')\n",
    "\n",
    "for s in range(1, 5):\n",
    "    df_train_agg[\"prev_shop{}_{}\".format(col, s)] = df_train_agg.groupby(['date_block_num','shop_id','item_category_name'])[col].shift(s)\n",
    "    features.append(\"prev_shop{}_{}\".format(col, s))\n",
    "df_train_agg.fillna(0, inplace = True)"
   ]
  },
  {
   "cell_type": "markdown",
   "metadata": {},
   "source": [
    "### Outliers"
   ]
  },
  {
   "cell_type": "code",
   "execution_count": 16,
   "metadata": {},
   "outputs": [],
   "source": [
    "df_train_agg = df_train_agg[df_train_agg['item_cnt_day']!=df_train_agg.item_cnt_day.max()].copy()##don't include outliers"
   ]
  },
  {
   "cell_type": "code",
   "execution_count": 17,
   "metadata": {},
   "outputs": [
    {
     "data": {
      "text/plain": [
       "count    1.608224e+06\n",
       "mean     2.269765e+00\n",
       "std      8.269277e+00\n",
       "min      1.000000e+00\n",
       "25%      1.000000e+00\n",
       "50%      1.000000e+00\n",
       "75%      2.000000e+00\n",
       "max      1.305000e+03\n",
       "Name: item_cnt_day, dtype: float64"
      ]
     },
     "execution_count": 17,
     "metadata": {},
     "output_type": "execute_result"
    }
   ],
   "source": [
    "df_train_agg.item_cnt_day.describe()\n",
    "#sns.distplot(df_train_agg.item_cnt_day)"
   ]
  },
  {
   "cell_type": "code",
   "execution_count": 18,
   "metadata": {},
   "outputs": [
    {
     "data": {
      "text/plain": [
       "['item_price',\n",
       " 'prev_shopitem_cnt_day_1',\n",
       " 'prev_shopitem_cnt_day_2',\n",
       " 'prev_shopitem_cnt_day_3',\n",
       " 'prev_shopitem_cnt_day_4']"
      ]
     },
     "execution_count": 18,
     "metadata": {},
     "output_type": "execute_result"
    }
   ],
   "source": [
    "features"
   ]
  },
  {
   "cell_type": "code",
   "execution_count": 19,
   "metadata": {},
   "outputs": [],
   "source": [
    "train = pd.merge(df_train_agg,sales_item_price, on='item_id',how='left')"
   ]
  },
  {
   "cell_type": "code",
   "execution_count": 21,
   "metadata": {},
   "outputs": [],
   "source": [
    "X_train, X_test, y_train, y_test = train_test_split(train[features], train['item_cnt_day'], test_size=0.30, random_state=42)"
   ]
  },
  {
   "cell_type": "code",
   "execution_count": 22,
   "metadata": {},
   "outputs": [],
   "source": [
    "def rmse(x,y): return math.sqrt(((x-y)**2).mean())\n",
    "def Grid_Search_CV(X_train, y_train):\n",
    "\n",
    "    estimator = RandomForestRegressor()\n",
    "    param_grid = { \n",
    "            \"n_estimators\"  : [100,200,300, 500],\n",
    "            \"max_features\"  : [\"auto\", \"sqrt\", \"log2\"],\n",
    "            #\"max_features\" : [20, 30, 40],\n",
    "            \"max_depth\"     : [3, 4, 6, None],\n",
    "           'min_samples_leaf':[5, 8, 12],\n",
    "           'min_samples_split':[8, 15, 25],\n",
    "            \"bootstrap\": [True, False],\n",
    "            }\n",
    "\n",
    "    grid = GridSearchCV(estimator, param_grid, n_jobs=-1, cv=5)\n",
    "\n",
    "    grid.fit(X_train, y_train)\n",
    "\n",
    "    return grid.best_score_ , grid.best_params_\n",
    "\n",
    "def create_random_forest(train, test, train_labels, test_labels, best_params):\n",
    "    rf = RandomForestRegressor(n_jobs=-1, random_state =50).set_params(**best_params)\n",
    "    rf.fit(train,train_labels)\n",
    "    pred = rf. predict(test)\n",
    "    pred_train = rf. predict(train)\n",
    "    \n",
    "    x=np.median(train_labels)\n",
    "    medianpredict1 = [x for _ in test_labels] \n",
    "    \n",
    "    print('rmse baseline: ',rmse(medianpredict1, test_labels))\n",
    "    print('MAE baseline: ',mean_absolute_error(test_labels,medianpredict1))\n",
    "    print(\"rmse_test\",rmse(pred, test_labels))\n",
    "    print(\"MAE test\", mean_absolute_error(test_labels, pred))\n",
    "    print('rmse train', rmse(pred_train, train_labels))\n",
    "    print('MAE train', mean_absolute_error(train_labels, pred_train))\n",
    "    #tree_graph = tree.export_graphviz(rf, out_file=None, feature_names=features)\n",
    "    return pred, pred_train, rf"
   ]
  },
  {
   "cell_type": "code",
   "execution_count": null,
   "metadata": {},
   "outputs": [],
   "source": []
  }
 ],
 "metadata": {
  "kernelspec": {
   "display_name": "Python 3",
   "language": "python",
   "name": "python3"
  },
  "language_info": {
   "codemirror_mode": {
    "name": "ipython",
    "version": 3
   },
   "file_extension": ".py",
   "mimetype": "text/x-python",
   "name": "python",
   "nbconvert_exporter": "python",
   "pygments_lexer": "ipython3",
   "version": "3.6.9"
  }
 },
 "nbformat": 4,
 "nbformat_minor": 4
}
